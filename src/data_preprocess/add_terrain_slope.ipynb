{
 "cells": [
  {
   "cell_type": "code",
   "execution_count": null,
   "metadata": {},
   "outputs": [],
   "source": [
    "import ee\n",
    "ee.Authenticate()\n",
    "ee.Initialize()"
   ]
  },
  {
   "cell_type": "code",
   "execution_count": null,
   "metadata": {},
   "outputs": [],
   "source": [
    "import json\n",
    "def open_jsonl_file(jsonl_path):\n",
    "    data = []\n",
    "    with open(jsonl_path, 'r',encoding='utf-8') as file:\n",
    "        for line in file:\n",
    "            data.append(json.loads(line))\n",
    "    return data"
   ]
  },
  {
   "cell_type": "code",
   "execution_count": null,
   "metadata": {},
   "outputs": [],
   "source": [
    "train_data = open_jsonl_file('../../Datasets/hikr_org_train_test_valid/train.jsonl')\n",
    "test_data = open_jsonl_file('../../Datasets/hikr_org_train_test_valid/test.jsonl')\n",
    "valid_data = open_jsonl_file('../../Datasets/hikr_org_train_test_valid/valid.jsonl')"
   ]
  },
  {
   "cell_type": "code",
   "execution_count": null,
   "metadata": {},
   "outputs": [],
   "source": [
    "import numpy as np\n",
    "\n",
    "def get_single_slope(lat,lon):\n",
    "    point = ee.Geometry.Point([lon, lat])\n",
    "    if lat >= 60:\n",
    "        dem = ee.Image('UMN/PGC/ArcticDEM/V3/2m_mosaic').select('elevation')\n",
    "    else:\n",
    "        dem = ee.Image('NASA/NASADEM_HGT/001').select('elevation')\n",
    "    slope = ee.Terrain.slope(dem)\n",
    "    point_feature_collection = ee.FeatureCollection(point)\n",
    "    sampled_features = slope.sampleRegions(collection=point_feature_collection)\n",
    "    sampled_dict = sampled_features.getInfo()\n",
    "    if sampled_dict['features'] == []:\n",
    "        return np.nan\n",
    "    else:\n",
    "        slope = sampled_dict['features'][0]['properties']['slope']\n",
    "        return slope"
   ]
  },
  {
   "cell_type": "code",
   "execution_count": null,
   "metadata": {},
   "outputs": [],
   "source": [
    "def get_multi_slope(track):\n",
    "    slope_list = []\n",
    "    latitudes = track['latitude']\n",
    "    longitudes = track['longitude']\n",
    "    features = [ee.Feature(ee.Geometry.Point([lon, lat])) for lat, lon in zip(latitudes, longitudes)]\n",
    "    feature_collection = ee.FeatureCollection(features)\n",
    "    first_lat = latitudes[0]\n",
    "    first_lon = longitudes[0]\n",
    "    if first_lat >= 60:\n",
    "        dem = ee.Image('UMN/PGC/ArcticDEM/V3/2m_mosaic').select('elevation')\n",
    "    else:\n",
    "        dem = ee.Image('NASA/NASADEM_HGT/001').select('elevation')\n",
    "    slope = ee.Terrain.slope(dem)\n",
    "    sampled_features = slope.sampleRegions(collection=feature_collection)\n",
    "    sampled_dict = sampled_features.getInfo()\n",
    "    for feature in sampled_dict['features']:\n",
    "        slope = feature['properties']['slope']\n",
    "        slope_list.append(slope)\n",
    "    return slope_list"
   ]
  },
  {
   "cell_type": "code",
   "execution_count": null,
   "metadata": {},
   "outputs": [],
   "source": [
    "from tqdm import tqdm\n",
    "import os\n",
    "\n",
    "def add_slope_to_track(inputpath, savepath):\n",
    "    os.makedirs(os.path.dirname(savepath), exist_ok=True)\n",
    "    data = open_jsonl_file(inputpath)\n",
    "    with open(savepath, 'w', encoding='utf-8') as f:\n",
    "        for track in tqdm(data):\n",
    "            slope_list = get_multi_slope(track)\n",
    "            if len(track[\"latitude\"]) != len(slope_list):\n",
    "                slope_list = []\n",
    "                for lat, lon in zip(track[\"latitude\"], track[\"longitude\"]):\n",
    "                    slope = get_single_slope(lat, lon)\n",
    "                    slope_list.append(slope)\n",
    "            track[\"Terrain_slope(degrees)\"] = slope_list\n",
    "            f.write(json.dumps(track, ensure_ascii=False) + '\\n')"
   ]
  },
  {
   "cell_type": "code",
   "execution_count": null,
   "metadata": {},
   "outputs": [],
   "source": [
    "file_types = ['train', 'test', 'valid']\n",
    "for file_type in file_types:\n",
    "    input_file = f\"../../Datasets/hikr_org_train_test_valid/{file_type}.jsonl\"\n",
    "    output_file = f\"../../Datasets/processed_dataset/{file_type}.jsonl\"\n",
    "    add_slope_to_track(input_file, output_file)"
   ]
  },
  {
   "cell_type": "code",
   "execution_count": null,
   "metadata": {},
   "outputs": [],
   "source": [
    "def calculate_terrain_slope_stats(filepath):\n",
    "    slopes = []\n",
    "    with open(filepath, 'r', encoding='utf-8') as file:\n",
    "        for line in file:\n",
    "            data = json.loads(line)\n",
    "            if \"Terrain_slope(degrees)\" in data:\n",
    "                slopes.extend(data[\"Terrain_slope(degrees)\"])\n",
    "    mean = np.mean(slopes)\n",
    "    std = np.std(slopes)\n",
    "    return mean, std"
   ]
  },
  {
   "cell_type": "code",
   "execution_count": null,
   "metadata": {},
   "outputs": [],
   "source": [
    "def add_stats_to_config(config_path, mean, std):\n",
    "    try:\n",
    "        with open(config_path, 'r') as file:\n",
    "            config = json.load(file)\n",
    "\n",
    "        config['Terrain_slope(degrees)'] = {'mean': mean, 'std': std}\n",
    "\n",
    "        with open(config_path, 'w') as file:\n",
    "            json.dump(config, file, indent=4)\n",
    "    except Exception as e:\n",
    "        print(e)"
   ]
  },
  {
   "cell_type": "code",
   "execution_count": null,
   "metadata": {},
   "outputs": [],
   "source": [
    "import shutil\n",
    "def create_processed_config(source_path, target_path, mean, std):\n",
    "    shutil.copy(source_path, target_path)\n",
    "    \n",
    "    with open(target_path, 'r') as file:\n",
    "        config = json.load(file)\n",
    "    config['Terrain_slope(degrees)'] = {'mean': mean, 'std': std}\n",
    "    \n",
    "    with open(target_path, 'w') as file:\n",
    "        json.dump(config, file, indent=4)"
   ]
  },
  {
   "cell_type": "code",
   "execution_count": null,
   "metadata": {},
   "outputs": [],
   "source": [
    "source_config_path = '../../Datasets/hikr_org_train_test_valid/config.json'\n",
    "target_config_path = '../../Datasets/processed_dataset/config.json'\n",
    "mean, std = calculate_terrain_slope_stats('../../Datasets/processed_dataset/train.jsonl')\n",
    "\n",
    "create_processed_config(source_config_path, target_config_path, mean, std)"
   ]
  }
 ],
 "metadata": {
  "kernelspec": {
   "display_name": "google_ee",
   "language": "python",
   "name": "python3"
  },
  "language_info": {
   "codemirror_mode": {
    "name": "ipython",
    "version": 3
   },
   "file_extension": ".py",
   "mimetype": "text/x-python",
   "name": "python",
   "nbconvert_exporter": "python",
   "pygments_lexer": "ipython3",
   "version": "3.9.18"
  }
 },
 "nbformat": 4,
 "nbformat_minor": 2
}
